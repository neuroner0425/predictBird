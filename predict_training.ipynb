{
 "cells": [
  {
   "cell_type": "code",
   "id": "initial_id",
   "metadata": {
    "collapsed": true
   },
   "source": [
    "import os\n",
    "import torch\n",
    "import torch.nn as nn\n",
    "import torch.optim as optim\n",
    "from torchvision import models\n",
    "from torchvision import datasets, transforms\n",
    "from torch.utils.data import DataLoader\n",
    "from tqdm import tqdm"
   ],
   "outputs": [],
   "execution_count": null
  },
  {
   "metadata": {},
   "cell_type": "code",
   "source": [
    "# 전처리 파이프라인 정의\n",
    "transform = transforms.Compose([\n",
    "    transforms.Resize((224, 224)),\n",
    "    transforms.ToTensor(),\n",
    "    transforms.Normalize([0.485, 0.456, 0.406],\n",
    "                         [0.229, 0.224, 0.225])\n",
    "])"
   ],
   "id": "85f787925bec7ff5",
   "outputs": [],
   "execution_count": null
  },
  {
   "metadata": {},
   "cell_type": "code",
   "source": [
    "# 데이터셋 로드\n",
    "train_dataset = datasets.ImageFolder('resource/train/images', transform=transform) # 실제 이 경로에 학습 이미지 추가 필요\n",
    "val_dataset = datasets.ImageFolder('resource/val/images', transform=transform) # 실제 이 경로에 테스트 이미지 추가 필요\n",
    "\n",
    "train_loader = DataLoader(train_dataset, batch_size=32, shuffle=True)\n",
    "val_loader = DataLoader(val_dataset, batch_size=32, shuffle=False)\n",
    "\n",
    "# 클래스 이름 매핑\n",
    "class_names = train_dataset.classes\n",
    "\n",
    "print(class_names)"
   ],
   "id": "b039666999372819",
   "outputs": [],
   "execution_count": null
  },
  {
   "metadata": {},
   "cell_type": "code",
   "source": [
    "# GPU 사용할 수 있으면 변경\n",
    "device = torch.device('cuda' if torch.cuda.is_available() else 'cpu')\n",
    "\n",
    "def build_classification_model(_num_classes):\n",
    "    _model = models.efficientnet_b0(pretrained=True)\n",
    "    _model.classifier[1] = nn.Linear(_model.classifier[1].in_features, _num_classes)\n",
    "    return _model\n",
    "\n",
    "num_classes = len(class_names)\n",
    "model = build_classification_model(num_classes).to(device)\n",
    "\n",
    "# 손실 함수 및 옵티마이저\n",
    "criterion = nn.CrossEntropyLoss()\n",
    "optimizer = optim.Adam(model.parameters(), lr=0.001)"
   ],
   "id": "64b8d1f3e0b8c8ee",
   "outputs": [],
   "execution_count": null
  },
  {
   "metadata": {},
   "cell_type": "code",
   "source": [
    "# 학습 루프\n",
    "def train_model(_model, _train_loader, _val_loader, epochs=10):\n",
    "    for epoch in range(epochs):\n",
    "        _model.train()\n",
    "        running_loss = 0.0\n",
    "        for images, labels in tqdm(_train_loader, desc=f\"Epoch {epoch + 1}/{epochs}\"):\n",
    "            images, labels = images.to(device), labels.to(device)\n",
    "\n",
    "            # Forward pass\n",
    "            outputs = _model(images)\n",
    "            loss = criterion(outputs, labels)\n",
    "\n",
    "            # Backward pass\n",
    "            optimizer.zero_grad()\n",
    "            loss.backward()\n",
    "            optimizer.step()\n",
    "\n",
    "            running_loss += loss.item()\n",
    "\n",
    "        print(f\"Epoch {epoch + 1}, Loss: {running_loss / len(_train_loader)}\")\n",
    "\n",
    "        validate_model(_model, _val_loader, epoch)"
   ],
   "id": "8e8004c2a214e927",
   "outputs": [],
   "execution_count": null
  },
  {
   "metadata": {},
   "cell_type": "code",
   "source": [
    "def validate_model(_model, _val_loader, epoch):\n",
    "    _model.eval()\n",
    "    correct = 0\n",
    "    total = 0\n",
    "    with torch.no_grad():\n",
    "        for images, labels in _val_loader:\n",
    "            images, labels = images.to(device), labels.to(device)\n",
    "            outputs = _model(images)\n",
    "            _, predicted = torch.max(outputs.data, 1)\n",
    "            total += labels.size(0)\n",
    "            correct += (predicted == labels).sum().item()\n",
    "    if not os.path.exists('models'):\n",
    "        os.makedirs('models')\n",
    "    path = os.path.join('models', f'model_{epoch + 1}.pth')\n",
    "    torch.save(_model, path)\n",
    "    accuracy = 100 * correct / total\n",
    "    print(f'Validation Accuracy: {accuracy:.2f}%')"
   ],
   "id": "a56fe4e84ab0670e",
   "outputs": [],
   "execution_count": null
  },
  {
   "metadata": {},
   "cell_type": "code",
   "source": [
    "# 모델 학습 시작\n",
    "train_model(model, train_loader, val_loader, epochs=10)\n",
    "\n",
    "torch.save(model, 'model.pth')"
   ],
   "id": "56d20cb0af6a5a84",
   "outputs": [],
   "execution_count": null
  }
 ],
 "metadata": {
  "kernelspec": {
   "display_name": "Python 3",
   "language": "python",
   "name": "python3"
  },
  "language_info": {
   "codemirror_mode": {
    "name": "ipython",
    "version": 2
   },
   "file_extension": ".py",
   "mimetype": "text/x-python",
   "name": "python",
   "nbconvert_exporter": "python",
   "pygments_lexer": "ipython2",
   "version": "2.7.6"
  }
 },
 "nbformat": 4,
 "nbformat_minor": 5
}
