{
 "cells": [
  {
   "cell_type": "code",
   "id": "initial_id",
   "metadata": {
    "collapsed": true,
    "ExecuteTime": {
     "end_time": "2025-07-04T09:59:37.542713Z",
     "start_time": "2025-07-04T09:59:27.466396Z"
    }
   },
   "source": [
    "import keras\n",
    "import os\n",
    "import time\n",
    "from PIL import Image\n",
    "import tensorflow as tf"
   ],
   "outputs": [],
   "execution_count": 1
  },
  {
   "metadata": {
    "ExecuteTime": {
     "end_time": "2025-07-04T09:59:38.141439Z",
     "start_time": "2025-07-04T09:59:38.129522Z"
    }
   },
   "cell_type": "code",
   "source": [
    "def preprocess_image(image_path):\n",
    "    file_io = tf.io.read_file(image_path)\n",
    "    _hr_image = tf.image.decode_image(file_io)\n",
    "    # If PNG, remove the alpha channel. The model only supports\n",
    "    # images with 3 color channels.\n",
    "    if _hr_image.shape[-1] == 4:\n",
    "        _hr_image = _hr_image[..., :-1]\n",
    "    hr_size = (tf.convert_to_tensor(_hr_image.shape[:-1]) // 4) * 4\n",
    "    _hr_image = tf.image.crop_to_bounding_box(_hr_image, 0, 0, hr_size[0], hr_size[1])\n",
    "    _hr_image = tf.cast(_hr_image, tf.float32)\n",
    "    return tf.expand_dims(_hr_image, 0)"
   ],
   "id": "70d8717497bec070",
   "outputs": [],
   "execution_count": 3
  },
  {
   "metadata": {
    "ExecuteTime": {
     "end_time": "2025-07-04T09:59:38.162365Z",
     "start_time": "2025-07-04T09:59:38.154364Z"
    }
   },
   "cell_type": "code",
   "source": [
    "def save_image(image, filename):\n",
    "    if not isinstance(image, Image.Image):\n",
    "        image = tf.clip_by_value(image, 0, 255)\n",
    "        image = Image.fromarray(tf.cast(image, tf.uint8).numpy())\n",
    "    image.save(\"%s.jpg\" % filename)\n",
    "    print(\"Saved as %s.jpg\" % filename)"
   ],
   "id": "9a8d8dce12e30af1",
   "outputs": [],
   "execution_count": 4
  },
  {
   "metadata": {
    "ExecuteTime": {
     "end_time": "2025-07-04T10:00:25.352438Z",
     "start_time": "2025-07-04T10:00:25.349358Z"
    }
   },
   "cell_type": "code",
   "outputs": [],
   "execution_count": 6,
   "source": [
    "# 1. 데이터셋 경로 설정\n",
    "IMAGE_PATH = os.path.join('resource', 'test', 'images', 'sample_bird.jpg')\n",
    "SAVED_MODEL_PATH = os.path.join('upscale_model')"
   ],
   "id": "fd174f1816a0da32"
  },
  {
   "metadata": {
    "ExecuteTime": {
     "end_time": "2025-07-04T10:00:26.521670Z",
     "start_time": "2025-07-04T10:00:26.484671Z"
    }
   },
   "cell_type": "code",
   "source": [
    "hr_image = preprocess_image(IMAGE_PATH)\n",
    "model = keras.models.load_model(SAVED_MODEL_PATH)\n",
    "fake_image = model(hr_image)\n",
    "save_image(tf.squeeze(fake_image), filename=\"Super Resolution\")"
   ],
   "id": "28efe83952a85039",
   "outputs": [
    {
     "ename": "ValueError",
     "evalue": "File format not supported: filepath=upscale_model. Keras 3 only supports V3 `.keras` files and legacy H5 format files (`.h5` extension). Note that the legacy SavedModel format is not supported by `load_model()` in Keras 3. In order to reload a TensorFlow SavedModel as an inference-only layer in Keras 3, use `keras.layers.TFSMLayer(upscale_model, call_endpoint='serving_default')` (note that your `call_endpoint` might have a different name).",
     "output_type": "error",
     "traceback": [
      "\u001B[31m---------------------------------------------------------------------------\u001B[39m",
      "\u001B[31mValueError\u001B[39m                                Traceback (most recent call last)",
      "\u001B[36mCell\u001B[39m\u001B[36m \u001B[39m\u001B[32mIn[7]\u001B[39m\u001B[32m, line 2\u001B[39m\n\u001B[32m      1\u001B[39m hr_image = preprocess_image(IMAGE_PATH)\n\u001B[32m----> \u001B[39m\u001B[32m2\u001B[39m model = \u001B[43mkeras\u001B[49m\u001B[43m.\u001B[49m\u001B[43mmodels\u001B[49m\u001B[43m.\u001B[49m\u001B[43mload_model\u001B[49m\u001B[43m(\u001B[49m\u001B[43mSAVED_MODEL_PATH\u001B[49m\u001B[43m)\u001B[49m\n\u001B[32m      3\u001B[39m fake_image = model(hr_image)\n\u001B[32m      4\u001B[39m save_image(tf.squeeze(fake_image), filename=\u001B[33m\"\u001B[39m\u001B[33mSuper Resolution\u001B[39m\u001B[33m\"\u001B[39m)\n",
      "\u001B[36mFile \u001B[39m\u001B[32m~\\workspace\\predictBird_precessServer\\.venv\\Lib\\site-packages\\keras\\src\\saving\\saving_api.py:206\u001B[39m, in \u001B[36mload_model\u001B[39m\u001B[34m(filepath, custom_objects, compile, safe_mode)\u001B[39m\n\u001B[32m    200\u001B[39m     \u001B[38;5;28;01mraise\u001B[39;00m \u001B[38;5;167;01mValueError\u001B[39;00m(\n\u001B[32m    201\u001B[39m         \u001B[33mf\u001B[39m\u001B[33m\"\u001B[39m\u001B[33mFile not found: filepath=\u001B[39m\u001B[38;5;132;01m{\u001B[39;00mfilepath\u001B[38;5;132;01m}\u001B[39;00m\u001B[33m. \u001B[39m\u001B[33m\"\u001B[39m\n\u001B[32m    202\u001B[39m         \u001B[33m\"\u001B[39m\u001B[33mPlease ensure the file is an accessible `.keras` \u001B[39m\u001B[33m\"\u001B[39m\n\u001B[32m    203\u001B[39m         \u001B[33m\"\u001B[39m\u001B[33mzip file.\u001B[39m\u001B[33m\"\u001B[39m\n\u001B[32m    204\u001B[39m     )\n\u001B[32m    205\u001B[39m \u001B[38;5;28;01melse\u001B[39;00m:\n\u001B[32m--> \u001B[39m\u001B[32m206\u001B[39m     \u001B[38;5;28;01mraise\u001B[39;00m \u001B[38;5;167;01mValueError\u001B[39;00m(\n\u001B[32m    207\u001B[39m         \u001B[33mf\u001B[39m\u001B[33m\"\u001B[39m\u001B[33mFile format not supported: filepath=\u001B[39m\u001B[38;5;132;01m{\u001B[39;00mfilepath\u001B[38;5;132;01m}\u001B[39;00m\u001B[33m. \u001B[39m\u001B[33m\"\u001B[39m\n\u001B[32m    208\u001B[39m         \u001B[33m\"\u001B[39m\u001B[33mKeras 3 only supports V3 `.keras` files and \u001B[39m\u001B[33m\"\u001B[39m\n\u001B[32m    209\u001B[39m         \u001B[33m\"\u001B[39m\u001B[33mlegacy H5 format files (`.h5` extension). \u001B[39m\u001B[33m\"\u001B[39m\n\u001B[32m    210\u001B[39m         \u001B[33m\"\u001B[39m\u001B[33mNote that the legacy SavedModel format is not \u001B[39m\u001B[33m\"\u001B[39m\n\u001B[32m    211\u001B[39m         \u001B[33m\"\u001B[39m\u001B[33msupported by `load_model()` in Keras 3. In \u001B[39m\u001B[33m\"\u001B[39m\n\u001B[32m    212\u001B[39m         \u001B[33m\"\u001B[39m\u001B[33morder to reload a TensorFlow SavedModel as an \u001B[39m\u001B[33m\"\u001B[39m\n\u001B[32m    213\u001B[39m         \u001B[33m\"\u001B[39m\u001B[33minference-only layer in Keras 3, use \u001B[39m\u001B[33m\"\u001B[39m\n\u001B[32m    214\u001B[39m         \u001B[33m\"\u001B[39m\u001B[33m`keras.layers.TFSMLayer(\u001B[39m\u001B[33m\"\u001B[39m\n\u001B[32m    215\u001B[39m         \u001B[33mf\u001B[39m\u001B[33m\"\u001B[39m\u001B[38;5;132;01m{\u001B[39;00mfilepath\u001B[38;5;132;01m}\u001B[39;00m\u001B[33m, call_endpoint=\u001B[39m\u001B[33m'\u001B[39m\u001B[33mserving_default\u001B[39m\u001B[33m'\u001B[39m\u001B[33m)` \u001B[39m\u001B[33m\"\u001B[39m\n\u001B[32m    216\u001B[39m         \u001B[33m\"\u001B[39m\u001B[33m(note that your `call_endpoint` \u001B[39m\u001B[33m\"\u001B[39m\n\u001B[32m    217\u001B[39m         \u001B[33m\"\u001B[39m\u001B[33mmight have a different name).\u001B[39m\u001B[33m\"\u001B[39m\n\u001B[32m    218\u001B[39m     )\n",
      "\u001B[31mValueError\u001B[39m: File format not supported: filepath=upscale_model. Keras 3 only supports V3 `.keras` files and legacy H5 format files (`.h5` extension). Note that the legacy SavedModel format is not supported by `load_model()` in Keras 3. In order to reload a TensorFlow SavedModel as an inference-only layer in Keras 3, use `keras.layers.TFSMLayer(upscale_model, call_endpoint='serving_default')` (note that your `call_endpoint` might have a different name)."
     ]
    }
   ],
   "execution_count": 7
  }
 ],
 "metadata": {
  "kernelspec": {
   "display_name": "Python 3",
   "language": "python",
   "name": "python3"
  },
  "language_info": {
   "codemirror_mode": {
    "name": "ipython",
    "version": 2
   },
   "file_extension": ".py",
   "mimetype": "text/x-python",
   "name": "python",
   "nbconvert_exporter": "python",
   "pygments_lexer": "ipython2",
   "version": "2.7.6"
  }
 },
 "nbformat": 4,
 "nbformat_minor": 5
}
